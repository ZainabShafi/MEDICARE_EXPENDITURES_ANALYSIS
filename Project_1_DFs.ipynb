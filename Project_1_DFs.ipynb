{
 "cells": [
  {
   "cell_type": "code",
   "execution_count": null,
   "id": "f3ae9040-6e46-4d15-b320-e416c8036673",
   "metadata": {},
   "outputs": [],
   "source": [
    "import pandas as pd"
   ]
  },
  {
   "cell_type": "code",
   "execution_count": null,
   "id": "764de57e-de81-45ab-a19a-6837da598a6c",
   "metadata": {},
   "outputs": [],
   "source": [
    "medicare_2019 = pd.read_csv(\"/Users/zainabshafi/Desktop/Project_1/Medicare_Hospital_Spending_by_Claim_2019.csv\",encoding='utf-8')"
   ]
  },
  {
   "cell_type": "code",
   "execution_count": null,
   "id": "86b853bb-5cb6-4fe3-be11-dc22dd72e6ae",
   "metadata": {},
   "outputs": [],
   "source": [
    "medicare_2020 = pd.read_csv(\"/Users/zainabshafi/Desktop/Project_1/Medicare_Hospital_Spending_by_Claim_2020.csv\",encoding='utf-8')\n"
   ]
  },
  {
   "cell_type": "code",
   "execution_count": null,
   "id": "89e1b602-68b2-4a9d-95fc-d067cbf298a3",
   "metadata": {},
   "outputs": [],
   "source": [
    "medicare_2021 = pd.read_csv(\"/Users/zainabshafi/Desktop/Project_1/Medicare_Hospital_Spending_by_Claim_2021.csv\", encoding='utf-8')"
   ]
  },
  {
   "cell_type": "code",
   "execution_count": null,
   "id": "7a3e2fce-3bfe-40cb-8cdc-7f2bf7326946",
   "metadata": {},
   "outputs": [],
   "source": [
    "medicare_2022 = pd.read_csv(\"/Users/zainabshafi/Desktop/Project_1/Medicare_Hospital_Spending_by_Claim_2022.csv\", encoding='utf-8')"
   ]
  },
  {
   "cell_type": "code",
   "execution_count": null,
   "id": "458f9e53-0bf5-43a9-a767-f9376806474c",
   "metadata": {},
   "outputs": [],
   "source": [
    "#experimenting with 2020 \n",
    "medicare_2020.dtypes"
   ]
  },
  {
   "cell_type": "code",
   "execution_count": null,
   "id": "d179f4d9-7579-4983-a748-8845c70098fc",
   "metadata": {},
   "outputs": [],
   "source": [
    "medicare_2020.dropna() #no null values"
   ]
  },
  {
   "cell_type": "code",
   "execution_count": null,
   "id": "34f7cb78-22f6-43fc-b916-da6ac44b2824",
   "metadata": {},
   "outputs": [],
   "source": [
    "insurance_type_ct = medicare_2020[\"Claim Type\"].unique()\n",
    "print(insurance_type_ct)"
   ]
  },
  {
   "cell_type": "code",
   "execution_count": null,
   "id": "f9985111-05a3-4d4d-84f7-c305c4fe096d",
   "metadata": {},
   "outputs": [],
   "source": [
    "#Hospital Insurance: inpatient care (in hospitals), skilled nursing facility care, hospice care, home health care.\n",
    "#Medical Insurance: Outpatient care, Home health care, Durable medical equipment"
   ]
  },
  {
   "cell_type": "code",
   "execution_count": null,
   "id": "0b5b6c11-9672-4295-a77b-9acc58db1134",
   "metadata": {},
   "outputs": [],
   "source": [
    "num_2019_rows = medicare_2019['Facility Name'].count()\n",
    "num_2020_rows = medicare_2020 ['Facility Name'].count()\n",
    "num_2021_rows = medicare_2021['Facility Name'].count()\n",
    "num_2022_rows = medicare_2022['Facility Name'].count()\n",
    "\n",
    "\n",
    "print(\"YR 2019 rows:\",num_2019_rows,\",YR 2020 rows:\",num_2020_rows,\"YR 2021 rows:\",\",YR 2022 rows:\",num_2022_rows)\n",
    "#checking row count"
   ]
  },
  {
   "cell_type": "code",
   "execution_count": null,
   "id": "b009c0c2-4b7b-42bf-80f3-1fcb7cd39051",
   "metadata": {},
   "outputs": [],
   "source": [
    "#experimenting with by state spending\n",
    "state_spending_19= medicare_2019.groupby(\"State\").agg({\n",
    "    \"Avg Spndg Per EP Hospital\": \"sum\",\n",
    "    \"Avg Spndg Per EP State\" : \"sum\", \n",
    "    \"Avg Spndg Per EP National\" : \"sum\"\n",
    "})"
   ]
  },
  {
   "cell_type": "code",
   "execution_count": null,
   "id": "26215e9e-9062-4eec-b536-1d2d8f44f3df",
   "metadata": {},
   "outputs": [],
   "source": [
    "state_spending_20= medicare_2020.groupby(\"State\").agg({\n",
    "    \"Avg Spndg Per EP Hospital\": \"sum\",\n",
    "    \"Avg Spndg Per EP State\" : \"sum\", \n",
    "    \"Avg Spndg Per EP National\" : \"sum\"\n",
    "})\n"
   ]
  },
  {
   "cell_type": "code",
   "execution_count": null,
   "id": "45bcc33f-3c8c-4a45-9c2d-780d76610508",
   "metadata": {},
   "outputs": [],
   "source": [
    "state_spending_21= medicare_2021.groupby(\"State\").agg({\n",
    "    \"Avg Spndg Per EP Hospital\": \"sum\",\n",
    "    \"Avg Spndg Per EP State\" : \"sum\", \n",
    "    \"Avg Spndg Per EP National\" : \"sum\"\n",
    "})\n"
   ]
  },
  {
   "cell_type": "code",
   "execution_count": null,
   "id": "ac2c606b-543e-464a-9400-ffa74afa3357",
   "metadata": {},
   "outputs": [],
   "source": [
    "state_spending_22= medicare_2022.groupby(\"State\").agg({\n",
    "      \"Avg Spndg Per EP Hospital\": \"sum\",\n",
    "    \"Avg Spndg Per EP State\" : \"sum\", \n",
    "    \"Avg Spndg Per EP National\" : \"sum\"\n",
    "})\n"
   ]
  },
  {
   "cell_type": "code",
   "execution_count": null,
   "id": "37f2b5c9-0f12-4f4a-8d8a-12475221f77b",
   "metadata": {},
   "outputs": [],
   "source": [
    "#Start merges"
   ]
  },
  {
   "cell_type": "code",
   "execution_count": null,
   "id": "4f534cd6-bbb9-4b5f-be60-4797e65cac1e",
   "metadata": {},
   "outputs": [],
   "source": [
    "insurance_claims_merge_1 = pd.merge(medicare_2019, medicare_2020, how='outer')\n",
    "insurance_claims_merge_2 = pd.merge(insurance_claims_merge_1, medicare_2021, how='outer')\n",
    "insurance_claims_merged = pd.merge(insurance_claims_merge_2, medicare_2022, how='outer')"
   ]
  },
  {
   "cell_type": "code",
   "execution_count": null,
   "id": "aa240ff9-b7b2-4862-a11f-5f2f0381d08c",
   "metadata": {},
   "outputs": [],
   "source": [
    "insurance_claims_merged.tail()"
   ]
  },
  {
   "cell_type": "code",
   "execution_count": null,
   "id": "b9134dee-b860-416c-a485-6eeb2f73bc84",
   "metadata": {},
   "outputs": [],
   "source": [
    "insurance_claims_merged.to_csv('/Users/zainabshafi/Desktop/Project_1/insurance_claims_merged.csv', sep=',', index=True, encoding='utf-8')\n"
   ]
  },
  {
   "cell_type": "code",
   "execution_count": null,
   "id": "732d54bf-2172-4559-a2be-08821a616141",
   "metadata": {},
   "outputs": [],
   "source": [
    "state_spending_merge = insurance_claims_merged.groupby(\"State\").agg({\n",
    "    \"Avg Spndg Per EP Hospital\": \"sum\",\n",
    "    \"Avg Spndg Per EP State\" : \"sum\", \n",
    "    \"Avg Spndg Per EP National\" : \"sum\"\n",
    "})\n",
    "state_spending_merge.head(56) "
   ]
  },
  {
   "cell_type": "code",
   "execution_count": null,
   "id": "9e1462e8-2829-4990-97de-a0ce95c1b62b",
   "metadata": {},
   "outputs": [],
   "source": [
    "#just total all 4 years\n",
    "total_df = insurance_claims_merged[insurance_claims_merged['Claim Type'].str.contains('total', case=False)]\n",
    "total_df.head()\n"
   ]
  },
  {
   "cell_type": "code",
   "execution_count": null,
   "id": "98943882-91f5-4c68-b0d2-07ae2738aa35",
   "metadata": {},
   "outputs": [],
   "source": [
    "#without total all 4 years \n",
    "keywords = ['Home Health Agency', 'Hospice', 'Inpatient', 'Outpatient', 'Skilled Nursing Facility', 'Durable Medical Equipment', 'Carrier']\n",
    "condition = '|'.join(keywords)\n",
    "insurance_claims_new = insurance_claims_merged[insurance_claims_merged['Claim Type'].str.contains(condition, case=True)]\n",
    "insurance_claims_new.head(35)\n"
   ]
  },
  {
   "cell_type": "code",
   "execution_count": null,
   "id": "c4ebdf3f-f8e0-4989-9a5e-031a0067768e",
   "metadata": {},
   "outputs": [],
   "source": [
    "#state all claim totals, without 'total'\n",
    "state_spending = insurance_claims_new.groupby(\"State\").agg({\n",
    "    \"Avg Spndg Per EP Hospital\": \"sum\",\n",
    "    \"Avg Spndg Per EP State\" : \"sum\", \n",
    "    \"Avg Spndg Per EP National\" : \"sum\"\n",
    "})\n",
    "state_spending.head(56) \n"
   ]
  },
  {
   "cell_type": "code",
   "execution_count": null,
   "id": "b8e7a0f9-c290-4161-b738-28f37cf9b8d5",
   "metadata": {},
   "outputs": [],
   "source": [
    "#just totals for 2019\n",
    "total_df_2019 = insurance_claims_2019[insurance_claims_2019['Claim Type'].str.contains('total', case=False)]\n",
    "total_df_2019.head(25)"
   ]
  },
  {
   "cell_type": "code",
   "execution_count": null,
   "id": "4bd8842e-4749-454c-a185-c9fa372edc5f",
   "metadata": {},
   "outputs": [],
   "source": [
    "#2019 dataset without 'Total'\n",
    "keywords = ['Home Health Agency', 'Hospice', 'Inpatient', 'Outpatient', 'Skilled Nursing Facility', 'Durable Medical Equipment', 'Carrier']\n",
    "condition = '|'.join(keywords)\n",
    "no_total_2019= medicare_2019[medicare_2019['Claim Type'].str.contains(condition, case=True)]\n",
    "no_total_2019"
   ]
  },
  {
   "cell_type": "code",
   "execution_count": null,
   "id": "6e35e781-0536-4bcb-9499-d8fbd3c466ae",
   "metadata": {},
   "outputs": [],
   "source": [
    "#2020 dataset without total\n",
    "keywords = ['Home Health Agency', 'Hospice', 'Inpatient', 'Outpatient', 'Skilled Nursing Facility', 'Durable Medical Equipment', 'Carrier']\n",
    "condition = '|'.join(keywords)\n",
    "no_total_2020= medicare_2020[medicare_2020['Claim Type'].str.contains(condition, case=True)]\n",
    "no_total_2020"
   ]
  },
  {
   "cell_type": "code",
   "execution_count": null,
   "id": "29d8711d-e773-4730-ba4c-832cd42649c5",
   "metadata": {},
   "outputs": [],
   "source": [
    "#2021 dataset without total \n",
    "keywords = ['Home Health Agency', 'Hospice', 'Inpatient', 'Outpatient', 'Skilled Nursing Facility', 'Durable Medical Equipment', 'Carrier']\n",
    "condition = '|'.join(keywords)\n",
    "no_total_2021= medicare_2021[medicare_2021['Claim Type'].str.contains(condition, case=True)]\n",
    "no_total_2021"
   ]
  },
  {
   "cell_type": "code",
   "execution_count": null,
   "id": "ab5a8aec-1f0e-450a-8072-f0d31d95a4a8",
   "metadata": {},
   "outputs": [],
   "source": [
    "#2022 dataset without total\n",
    "keywords = ['Home Health Agency', 'Hospice', 'Inpatient', 'Outpatient', 'Skilled Nursing Facility', 'Durable Medical Equipment', 'Carrier']\n",
    "condition = '|'.join(keywords)\n",
    "no_total_2022= medicare_2022[medicare_2022['Claim Type'].str.contains(condition, case=True)]\n",
    "no_total_2022"
   ]
  },
  {
   "cell_type": "code",
   "execution_count": null,
   "id": "eae8127a-bf3b-4617-983c-f75b7c06d3f0",
   "metadata": {},
   "outputs": [],
   "source": [
    "#removing all columns after avg spdng per hospital - unable to do this with the merged df current;y \n",
    "filtered_2019 = no_total_2019[[\"Facility Name\", \"Facility ID\", \"State\", \"Period\", \"Claim Type\", \"Avg Spndg Per EP Hospital\"]]\n",
    "filtered_2019.head()\n"
   ]
  },
  {
   "cell_type": "code",
   "execution_count": null,
   "id": "fe16932a-e48b-43fe-916d-119a70f8df0e",
   "metadata": {},
   "outputs": [],
   "source": [
    "#filtering experimentation - first by claim, 2019 as an eg then applying to each respective year below: \n",
    "filtered_2019[filtered_2019['Claim Type'] == 'Inpatient']"
   ]
  },
  {
   "cell_type": "code",
   "execution_count": null,
   "id": "b0271d76-cfda-4c30-9744-24b3c00b299e",
   "metadata": {},
   "outputs": [],
   "source": [
    "filtered_2019[filtered_2019['Claim Type'] == 'Outpatient']"
   ]
  },
  {
   "cell_type": "code",
   "execution_count": null,
   "id": "d0621f30-27e6-45ad-ae94-de76be996449",
   "metadata": {},
   "outputs": [],
   "source": [
    "filtered_2019[filtered_2019['Claim Type'] == 'Hospice']"
   ]
  },
  {
   "cell_type": "code",
   "execution_count": null,
   "id": "3f730c36-73d5-4cfc-8732-e0b6d83d534c",
   "metadata": {},
   "outputs": [],
   "source": [
    "filtered_2019[((filtered_2019['Claim Type'] == 'Inpatient') | (filtered_2019['Claim Type'] == 'Outpatient') | (filtered_2019['Claim Type'] == 'Hospice'))]\n"
   ]
  },
  {
   "cell_type": "code",
   "execution_count": null,
   "id": "f98c21d4-02ac-497a-8440-6698c8b7d892",
   "metadata": {},
   "outputs": [],
   "source": [
    "#filtering by claim for subsequent years below, by Inpatient, Outpatient and Hospice limited to spendg per Hospital\n",
    "filtered_2020 = no_total_2020[[\"Facility Name\", \"Facility ID\", \"State\", \"Period\", \"Claim Type\", \"Avg Spndg Per EP Hospital\"]]\n"
   ]
  },
  {
   "cell_type": "code",
   "execution_count": null,
   "id": "902d7ac6-2288-4644-a8ab-7f0b55e46a46",
   "metadata": {},
   "outputs": [],
   "source": [
    "filtered_2020[((filtered_2020['Claim Type'] == 'Inpatient') | (filtered_2020['Claim Type'] == 'Outpatient') | (filtered_2020['Claim Type'] == 'Hospice'))]\n",
    " "
   ]
  },
  {
   "cell_type": "code",
   "execution_count": null,
   "id": "05b0d2f1-a0a5-4c2f-9263-bc5bf06aeb86",
   "metadata": {},
   "outputs": [],
   "source": [
    "filtered_2021 = no_total_2021[[\"Facility Name\", \"Facility ID\", \"State\", \"Period\", \"Claim Type\", \"Avg Spndg Per EP Hospital\"]]"
   ]
  },
  {
   "cell_type": "code",
   "execution_count": null,
   "id": "0b96a57e-78e1-46ee-b503-c9af86b0551a",
   "metadata": {},
   "outputs": [],
   "source": [
    "filtered_2021[((filtered_2021['Claim Type'] == 'Inpatient') | (filtered_2021['Claim Type'] == 'Outpatient') | (filtered_2021['Claim Type'] == 'Hospice'))]"
   ]
  },
  {
   "cell_type": "code",
   "execution_count": null,
   "id": "4896ac4c-f64c-4c3b-8eda-6d13bc69dec9",
   "metadata": {},
   "outputs": [],
   "source": [
    "filtered_2022 = no_total_2022[[\"Facility Name\", \"Facility ID\", \"State\", \"Period\", \"Claim Type\", \"Avg Spndg Per EP Hospital\"]]"
   ]
  },
  {
   "cell_type": "code",
   "execution_count": null,
   "id": "ec629643-b770-4d20-b6a4-8b026a190b36",
   "metadata": {},
   "outputs": [],
   "source": [
    "filtered_2022[((filtered_2022['Claim Type'] == 'Inpatient') | (filtered_2022['Claim Type'] == 'Outpatient') | (filtered_2022['Claim Type'] == 'Hospice'))]"
   ]
  },
  {
   "cell_type": "code",
   "execution_count": null,
   "id": "38f350a7-c414-4d19-9c60-8cad6562b957",
   "metadata": {},
   "outputs": [],
   "source": [
    "#Below going to start getting some totals for claim types: inpatient, hospice. Currently, they seem to be the most descriptive cateogories.\n",
    "#SUMS OF INPATIENT AVG SPENDING PER HOSPITAL "
   ]
  },
  {
   "cell_type": "code",
   "execution_count": null,
   "id": "19744a46-ffab-417d-a129-f51c0a106a6f",
   "metadata": {},
   "outputs": [],
   "source": [
    "inpatient_2019 = no_total_2019[[\"Facility Name\", \"State\",\"Claim Type\", \"Avg Spndg Per EP Hospital\"]]\n",
    "inpatient_2019_total = inpatient_2019[inpatient_2019['Claim Type'] == 'Inpatient']\n",
    "inpatient_2019_total[\"Avg Spndg Per EP Hospital\"].sum()"
   ]
  },
  {
   "cell_type": "code",
   "execution_count": null,
   "id": "95ac617a-4fa6-4a29-920c-6ca365ca58b0",
   "metadata": {},
   "outputs": [],
   "source": [
    "inpatient_2020 = no_total_2020[[\"Facility Name\", \"State\",\"Claim Type\", \"Avg Spndg Per EP Hospital\"]]\n",
    "inpatient_2020_total = inpatient_2020[inpatient_2020['Claim Type'] == 'Inpatient']\n",
    "inpatient_2020_total[\"Avg Spndg Per EP Hospital\"].sum()"
   ]
  },
  {
   "cell_type": "code",
   "execution_count": null,
   "id": "582ea933-1668-4f25-b738-2cbb2084b2eb",
   "metadata": {},
   "outputs": [],
   "source": [
    "inpatient_2021 = no_total_2021[[\"Facility Name\", \"State\",\"Claim Type\", \"Avg Spndg Per EP Hospital\"]]\n",
    "inpatient_2021_total = inpatient_2021[inpatient_2021['Claim Type'] == 'Inpatient']\n",
    "inpatient_2021_total[\"Avg Spndg Per EP Hospital\"].sum()"
   ]
  },
  {
   "cell_type": "code",
   "execution_count": null,
   "id": "b3589ccf-88b6-4163-b6a2-1af41c80f73e",
   "metadata": {},
   "outputs": [],
   "source": [
    "inpatient_2022 = no_total_2022[[\"Facility Name\", \"State\",\"Claim Type\", \"Avg Spndg Per EP Hospital\"]]\n",
    "inpatient_2022_total = inpatient_2022[inpatient_2022['Claim Type'] == 'Inpatient']\n",
    "inpatient_2022_total[\"Avg Spndg Per EP Hospital\"].sum()"
   ]
  },
  {
   "cell_type": "code",
   "execution_count": null,
   "id": "95aaac01-83e9-4c96-8a2b-0c9b65af7ac3",
   "metadata": {},
   "outputs": [],
   "source": [
    "#SUMS OF HOSPICE AVG SPENDING PER HOSPITAL "
   ]
  },
  {
   "cell_type": "code",
   "execution_count": null,
   "id": "32ad85bc-61cf-4bb9-aae5-e248cfd06c7f",
   "metadata": {},
   "outputs": [],
   "source": [
    "hospice_2019 = no_total_2019[[\"Facility Name\", \"State\",\"Claim Type\", \"Avg Spndg Per EP Hospital\"]]\n",
    "hospice_2019_total = hospice_2019[hospice_2019['Claim Type'] == 'Hospice']\n",
    "hospice_2019_total[\"Avg Spndg Per EP Hospital\"].sum()"
   ]
  },
  {
   "cell_type": "code",
   "execution_count": null,
   "id": "e5b49243-b163-469e-9f3d-73fe12a58e91",
   "metadata": {},
   "outputs": [],
   "source": [
    "hospice_2020 = no_total_2020[[\"Facility Name\", \"State\",\"Claim Type\", \"Avg Spndg Per EP Hospital\"]]\n",
    "hospice_2020_total = hospice_2020[hospice_2020['Claim Type'] == 'Hospice']\n",
    "hospice_2020_total[\"Avg Spndg Per EP Hospital\"].sum()"
   ]
  },
  {
   "cell_type": "code",
   "execution_count": null,
   "id": "95821f48-0dff-4031-bb90-b0e21c504d4a",
   "metadata": {},
   "outputs": [],
   "source": [
    "hospice_2021 = no_total_2021[[\"Facility Name\", \"State\",\"Claim Type\", \"Avg Spndg Per EP Hospital\"]]\n",
    "hospice_2021_total = hospice_2021[hospice_2021['Claim Type'] == 'Hospice']\n",
    "hospice_2021_total[\"Avg Spndg Per EP Hospital\"].sum()"
   ]
  },
  {
   "cell_type": "code",
   "execution_count": null,
   "id": "0517b586-405e-4ba4-afed-98127d241c29",
   "metadata": {},
   "outputs": [],
   "source": [
    "hospice_2022 = no_total_2022[[\"Facility Name\", \"State\",\"Claim Type\", \"Avg Spndg Per EP Hospital\"]]\n",
    "hospice_2022_total = hospice_2022[hospice_2022['Claim Type'] == 'Hospice']\n",
    "hospice_2022_total[\"Avg Spndg Per EP Hospital\"].sum()"
   ]
  },
  {
   "cell_type": "code",
   "execution_count": null,
   "id": "548a4399-b3fd-47de-9b2e-b565f8568621",
   "metadata": {},
   "outputs": [],
   "source": [
    "#If there are more inpatient claims during the period \"During Index Hospital Admission\" compared to the period \"1 to 3 days Prior to\n",
    "#Index Hospital Admission,it could suggest the following:\n",
    "\n",
    "#Acute Conditions: It may indicate that patients are being admitted to the hospital for acute medical conditions that require immediate attention \n",
    "#and cannot be managed outside of a hospital setting.\n",
    "\n",
    "#Emergency Situations: The increase in inpatient claims during hospital admission may reflect a higher volume of emergency cases or \n",
    "#urgent medical needs that arise suddenly and necessitate hospitalization.\n",
    "\n",
    "#Severe Symptoms: Patients may be admitted to the hospital when their symptoms become severe or unmanageable, \n",
    "#leading to a higher number of inpatient claims during the actual hospital admission period.\n",
    "\n",
    "#Hospital Procedures: Patients may undergo diagnostic tests, procedures, or surgeries shortly after admission,\n",
    "#resulting in a surge of inpatient claims during the hospital stay.\n",
    "\n",
    "#Timely Intervention: It may indicate that patients are receiving timely medical intervention and care \n",
    "#upon admission to the hospital, which could potentially improve health outcomes and reduce the risk of complications."
   ]
  },
  {
   "cell_type": "code",
   "execution_count": null,
   "id": "54526036-8736-4a74-a5bb-e4f4df1b6c1d",
   "metadata": {},
   "outputs": [],
   "source": [
    "#Attempting to do filters based on each Period for Inpatient claims in 2019\n",
    "period_2019 = medicare_2019[(medicare_2019['Claim Type'] == 'Inpatient') & (medicare_2019['Period'] == 'During Index Hospital Admission')]\n",
    "period_2019"
   ]
  },
  {
   "cell_type": "code",
   "execution_count": null,
   "id": "18f28c60-46e6-42b1-86d9-d747591a108c",
   "metadata": {},
   "outputs": [],
   "source": [
    "period1_2019 = medicare_2019[(medicare_2019['Claim Type'] == 'Inpatient') & (medicare_2019['Period'] == '1 to 3 days Prior to Index Hospital Admission')]\n",
    "period1_2019"
   ]
  },
  {
   "cell_type": "code",
   "execution_count": null,
   "id": "0b2b3b98-d125-4ea4-806b-9918cf7333d5",
   "metadata": {},
   "outputs": [],
   "source": [
    "#TOTAL AVG SPENDING PER HOSPITAL FOR INPATIENT CLAIMS 1 to 3 days prior to Index Hosp Admission - 2019: \n",
    "period1_2019[\"Avg Spndg Per EP Hospital\"].sum()"
   ]
  },
  {
   "cell_type": "code",
   "execution_count": null,
   "id": "aead83f5-6d9b-44d7-9930-50ad9e953f13",
   "metadata": {},
   "outputs": [],
   "source": [
    "period2_2019 = medicare_2019[(medicare_2019['Claim Type'] == 'Inpatient') & (medicare_2019['Period'] == '1 through 30 days After Discharge from Index Hospital Admission')]\n",
    "period2_2019"
   ]
  },
  {
   "cell_type": "code",
   "execution_count": null,
   "id": "092102e7-4f46-44b1-bbd1-1335e880f8a5",
   "metadata": {},
   "outputs": [],
   "source": [
    "period2_2019[\"Avg Spndg Per EP Hospital\"].sum()"
   ]
  },
  {
   "cell_type": "code",
   "execution_count": null,
   "id": "a3a15649-80e9-4950-9143-ec9dad5f3617",
   "metadata": {},
   "outputs": [],
   "source": [
    "#BELOW ARE CALCULATIONS OF TOTALS FOR INPATIENT CLAIMS FOR PERIOD: DURING INDEX HOSPITAL ADMISSION. THIS PERIOD SEEMS\n",
    "#TO BE THE MOST TELLING OF EMERGENCY SITUATIONS AND ACUTE CONDITIONS (SEE NOTES BELOW CELL 194). WE CAN ALWAYS ADD MORE FILTERED DATA."
   ]
  },
  {
   "cell_type": "code",
   "execution_count": null,
   "id": "b85b5cd3-90f5-42cd-bcb6-1ecdd45a8ad3",
   "metadata": {},
   "outputs": [],
   "source": [
    "period_2020 = medicare_2020[(medicare_2020['Claim Type'] == 'Inpatient') & (medicare_2020['Period'] == 'During Index Hospital Admission')]\n",
    "period_2020"
   ]
  },
  {
   "cell_type": "code",
   "execution_count": null,
   "id": "6bb5448c-8ea6-43d0-9b88-31b67ff162c1",
   "metadata": {},
   "outputs": [],
   "source": [
    "period_2021 = medicare_2021[(medicare_2021['Claim Type'] == 'Inpatient') & (medicare_2021['Period'] == 'During Index Hospital Admission')]\n",
    "period_2021"
   ]
  },
  {
   "cell_type": "code",
   "execution_count": null,
   "id": "ea1050ee-bdc6-41bf-8dc4-1066aab477d5",
   "metadata": {},
   "outputs": [],
   "source": [
    "period_2022 = medicare_2022[(medicare_2022['Claim Type'] == 'Inpatient') & (medicare_2022['Period'] == 'During Index Hospital Admission')]\n",
    "period_2022"
   ]
  },
  {
   "cell_type": "code",
   "execution_count": null,
   "id": "6579e0fc-3a95-4fa2-a78b-563c4972360e",
   "metadata": {},
   "outputs": [],
   "source": [
    "#TOTAL AVG SPENDING PER HOSPITAL FOR INPATIENT CLAIMS DURING INDEX HOSPITAL ADMISSION - 2019: \n",
    "period_2019[\"Avg Spndg Per EP Hospital\"].sum()"
   ]
  },
  {
   "cell_type": "code",
   "execution_count": null,
   "id": "344fce8c-05b3-4451-9381-8174b6c4e7a6",
   "metadata": {},
   "outputs": [],
   "source": [
    "#TOTAL AVG SPENDING PER EP HOSPITAL FOR INPATIENT CLAIMS DURING INDEX HOSPITAL ADMISSION, 2020\n",
    "period_2020[\"Avg Spndg Per EP Hospital\"].sum()"
   ]
  },
  {
   "cell_type": "code",
   "execution_count": null,
   "id": "1776e623-d243-400c-829a-dd5dcf3502ed",
   "metadata": {},
   "outputs": [],
   "source": [
    "#TOTAL AVG SPENDING PER EP HOSPITAL FOR INPATIENT CLAIMS DURING INDEX HOSPITAL ADMISSION, 2021\n",
    "period_2021[\"Avg Spndg Per EP Hospital\"].sum()"
   ]
  },
  {
   "cell_type": "code",
   "execution_count": null,
   "id": "5e14214e-43f2-450c-9a07-4b131dfbcc7d",
   "metadata": {},
   "outputs": [],
   "source": [
    "#TOTAL AVG SPENDING PER EP HOSPITAL FOR INPATIENT CLAIMS DURING INDEX HOSPITAL ADMISSION, 2021\n",
    "period_2022[\"Avg Spndg Per EP Hospital\"].sum()"
   ]
  }
 ],
 "metadata": {
  "kernelspec": {
   "display_name": "Python 3 (ipykernel)",
   "language": "python",
   "name": "python3"
  },
  "language_info": {
   "codemirror_mode": {
    "name": "ipython",
    "version": 3
   },
   "file_extension": ".py",
   "mimetype": "text/x-python",
   "name": "python",
   "nbconvert_exporter": "python",
   "pygments_lexer": "ipython3",
   "version": "3.11.5"
  }
 },
 "nbformat": 4,
 "nbformat_minor": 5
}
